{
 "cells": [
  {
   "cell_type": "code",
   "execution_count": 2,
   "id": "eb6365e2",
   "metadata": {},
   "outputs": [
    {
     "data": {
      "text/plain": [
       "True"
      ]
     },
     "execution_count": 2,
     "metadata": {},
     "output_type": "execute_result"
    }
   ],
   "source": [
    "import sys\n",
    "\n",
    "sys.path.append(\"../\")\n",
    "\n",
    "from dotenv import load_dotenv, find_dotenv\n",
    "\n",
    "load_dotenv(find_dotenv(), override=True)"
   ]
  },
  {
   "cell_type": "code",
   "execution_count": null,
   "id": "83639328",
   "metadata": {},
   "outputs": [],
   "source": [
    "from agent.src.configuration import Configuration, RunnableConfig\n",
    "\n",
    "langgraph_config = RunnableConfig(configurable={\"model\": \"gpt-4.1\"})\n",
    "\n",
    "config = Configuration.from_configurable(langgraph_config)\n",
    "\n",
    "print(config)"
   ]
  },
  {
   "cell_type": "code",
   "execution_count": 5,
   "id": "cd17d5a2",
   "metadata": {},
   "outputs": [
    {
     "name": "stdout",
     "output_type": "stream",
     "text": [
      "{'query': 'Who is Leo Messi?', 'follow_up_questions': None, 'answer': 'Lionel Messi is a professional football player known for his record-breaking achievements, including most goals for Barcelona and FIFA World Cup records. He currently plays for Inter Miami CF.', 'images': [], 'results': [{'url': 'https://en.wikipedia.org/wiki/Lionel_Messi', 'title': 'Lionel Messi - Wikipedia', 'content': \"He is the most decorated player in the history of professional football having won 45 team trophies.Messi's records include most goals in a calendar year (91), most goals for a single club (672 for Barcelona), most goals in La Liga (474), most goal contributions in the FIFA World Cup (21), and most goal contributions in the Copa América (32).\", 'score': 0.752468, 'raw_content': None}, {'url': 'https://www.olympics.com/en/athletes/lionel-messi', 'title': 'Lionel Messi | Biography, Competitions, Wins and Medals', 'content': 'Image 1: Olympic Channel [Football](https://www.olympics.com/en/news/erling-haaland-how-does-the-striker-compare-to-messi-ronaldo-mbappe) Image 6: FIFA World Cup 2022: What records did Lionel Messi break? [Lionel MESSI](https://www.olympics.com/en/news/fifa-world-cup-2022-lionel-messi-records) Image 7: Lionel Messi at FIFA World Cup: Biggest disappointments of Argentina superstar [Lionel MESSI](https://www.olympics.com/en/news/lionel-messi-fifa-world-cup-biggest-disappointments) ### Lionel Messi at FIFA World Cup: Biggest disappointments of Argentina superstar To improve and personalise your experience, and help grow the Olympic Movement, the IOC, the Organising Committees for the Olympic and Paralympic Games and our partners use cookies. To reject cookies or manage your cookies preferences click No, manage settings. These cookies are set by social media providers and include cookies that are set by the social media services that we have added to the Digital Platforms.', 'score': 0.42935818, 'raw_content': None}, {'url': 'https://www.amazon.com/Who-Lionel-Messi-HQ-Now/dp/0593754824', 'title': 'Who Is Lionel Messi? (Who HQ Now) - Amazon.com', 'content': 'Image 36 Amazon Customer) *   Image 42 Amazon Customer ##### _5.0 out of 5 stars_ Perfect for new readers Reviewed in the United States on May 11, 2025 Format: PaperbackVerified Purchase Was trying to get my kid to read more! *   Image 44 Katelyn ##### _5.0 out of 5 stars_ Loved it Reviewed in the United States on April 30, 2025 Format: PaperbackVerified Purchase Both of my kids read it in one day-love this  Read more)   Helpful Report    *   Image 50 Houzhiqiang1228 ##### _5.0 out of 5 stars_ Good book about Messi Reviewed in the United States on January 31, 2025 Format: KindleVerified Purchase A good book about Messi, from child to now!', 'score': 0.3233165, 'raw_content': None}, {'url': 'https://www.transfermarkt.us/lionel-messi/profil/spieler/28003', 'title': 'Lionel Messi - Player profile 2025 | Transfermarkt', 'content': 'Image 1: Transfermarkt Image 15: Players Image 16: Lionel Messi Image 26: Lionel Messi Image 135: Lionel Messi Image 139: Messi Lionel Argentina 2024 Image 142: Lionel Messi Argentina 2024 Image 143: Lionel Messi Argentina Image 146: Messi Lionel 2023 Argentina Image 147: Lionel Messi Image 149: Lionel_Messi_Miami Image 154: Lionel Messi, Argentina World Cup 2022 Image 161: Lionel Messi Argentina 2021 Image 162: Messi Image 174: Lionel Messi Image 175: Lionel Messi Image 176: Lionel Messi Image 177: Lionel Messi Image 178: Lionel Messi Image 179: Lionel Messi Image 180: Lionel Messi Image 181: Lionel Messi Image 182: Lionel Messi Image 183: Lionel Messi Image 184: Lionel Messi Image 185: Lionel Messi 2007 Image 186: Lionel Messi Image 199', 'score': 0.2753408, 'raw_content': None}, {'url': 'https://www.intermiamicf.com/players/lionel-messi/', 'title': 'Lionel Messi | Inter Miami CF', 'content': 'Image 16: Atlanta site address Image 18: Charlotte site address Image 19: Chicago site address Image 20: Cincinnati site address Image 26: LAFC site address Image 28: Miami site address Image 29: Minnesota site address Image 30: Montreal site address Image 31: Nashville site address Image 35: Orlando site address Image 36: Philadelphia site address Image 37: Portland site address Image 41: Seattle site address Image 44: Toronto site address Image 45: Vancouver site address If you click “Accept & Continue,” you consent to MLS and our advertisers, vendors and other partners (collectively “Partners”) using non-essential Cookies and processing personal data (such as unique identifiers) stored on and/or accessed from your device or browser for the purposes described below.', 'score': 0.1576163, 'raw_content': None}], 'response_time': 1.62}\n"
     ]
    }
   ],
   "source": [
    "from tavily import TavilyClient\n",
    "\n",
    "tavily_client = TavilyClient()\n",
    "response = tavily_client.search(\"Who is Leo Messi?\", include_answer=True)\n",
    "\n",
    "print(response)"
   ]
  },
  {
   "cell_type": "code",
   "execution_count": 6,
   "id": "1edfbfc7",
   "metadata": {},
   "outputs": [
    {
     "name": "stdout",
     "output_type": "stream",
     "text": [
      "{\n",
      "  \"query\": \"Who is Leo Messi?\",\n",
      "  \"follow_up_questions\": null,\n",
      "  \"answer\": \"Lionel Messi is a professional football player known for his record-breaking achievements, including most goals for Barcelona and FIFA World Cup records. He currently plays for Inter Miami CF.\",\n",
      "  \"images\": [],\n",
      "  \"results\": [\n",
      "    {\n",
      "      \"url\": \"https://en.wikipedia.org/wiki/Lionel_Messi\",\n",
      "      \"title\": \"Lionel Messi - Wikipedia\",\n",
      "      \"content\": \"He is the most decorated player in the history of professional football having won 45 team trophies.Messi's records include most goals in a calendar year (91), most goals for a single club (672 for Barcelona), most goals in La Liga (474), most goal contributions in the FIFA World Cup (21), and most goal contributions in the Copa Am\\u00e9rica (32).\",\n",
      "      \"score\": 0.752468,\n",
      "      \"raw_content\": null\n",
      "    },\n",
      "    {\n",
      "      \"url\": \"https://www.olympics.com/en/athletes/lionel-messi\",\n",
      "      \"title\": \"Lionel Messi | Biography, Competitions, Wins and Medals\",\n",
      "      \"content\": \"Image 1: Olympic Channel [Football](https://www.olympics.com/en/news/erling-haaland-how-does-the-striker-compare-to-messi-ronaldo-mbappe) Image 6: FIFA World Cup 2022: What records did Lionel Messi break? [Lionel MESSI](https://www.olympics.com/en/news/fifa-world-cup-2022-lionel-messi-records) Image 7: Lionel Messi at FIFA World Cup: Biggest disappointments of Argentina superstar [Lionel MESSI](https://www.olympics.com/en/news/lionel-messi-fifa-world-cup-biggest-disappointments) ### Lionel Messi at FIFA World Cup: Biggest disappointments of Argentina superstar To improve and personalise your experience, and help grow the Olympic Movement, the IOC, the Organising Committees for the Olympic and Paralympic Games and our partners use cookies. To reject cookies or manage your cookies preferences click No, manage settings. These cookies are set by social media providers and include cookies that are set by the social media services that we have added to the Digital Platforms.\",\n",
      "      \"score\": 0.42935818,\n",
      "      \"raw_content\": null\n",
      "    },\n",
      "    {\n",
      "      \"url\": \"https://www.amazon.com/Who-Lionel-Messi-HQ-Now/dp/0593754824\",\n",
      "      \"title\": \"Who Is Lionel Messi? (Who HQ Now) - Amazon.com\",\n",
      "      \"content\": \"Image 36 Amazon Customer) *   Image 42 Amazon Customer ##### _5.0 out of 5 stars_ Perfect for new readers Reviewed in the United States on May 11, 2025 Format: PaperbackVerified Purchase Was trying to get my kid to read more! *   Image 44 Katelyn ##### _5.0 out of 5 stars_ Loved it Reviewed in the United States on April 30, 2025 Format: PaperbackVerified Purchase Both of my kids read it in one day-love this  Read more)   Helpful Report    *   Image 50 Houzhiqiang1228 ##### _5.0 out of 5 stars_ Good book about Messi Reviewed in the United States on January 31, 2025 Format: KindleVerified Purchase A good book about Messi, from child to now!\",\n",
      "      \"score\": 0.3233165,\n",
      "      \"raw_content\": null\n",
      "    },\n",
      "    {\n",
      "      \"url\": \"https://www.transfermarkt.us/lionel-messi/profil/spieler/28003\",\n",
      "      \"title\": \"Lionel Messi - Player profile 2025 | Transfermarkt\",\n",
      "      \"content\": \"Image 1: Transfermarkt Image 15: Players Image 16: Lionel Messi Image 26: Lionel Messi Image 135: Lionel Messi Image 139: Messi Lionel Argentina 2024 Image 142: Lionel Messi Argentina 2024 Image 143: Lionel Messi Argentina Image 146: Messi Lionel 2023 Argentina Image 147: Lionel Messi Image 149: Lionel_Messi_Miami Image 154: Lionel Messi, Argentina World Cup 2022 Image 161: Lionel Messi Argentina 2021 Image 162: Messi Image 174: Lionel Messi Image 175: Lionel Messi Image 176: Lionel Messi Image 177: Lionel Messi Image 178: Lionel Messi Image 179: Lionel Messi Image 180: Lionel Messi Image 181: Lionel Messi Image 182: Lionel Messi Image 183: Lionel Messi Image 184: Lionel Messi Image 185: Lionel Messi 2007 Image 186: Lionel Messi Image 199\",\n",
      "      \"score\": 0.2753408,\n",
      "      \"raw_content\": null\n",
      "    },\n",
      "    {\n",
      "      \"url\": \"https://www.intermiamicf.com/players/lionel-messi/\",\n",
      "      \"title\": \"Lionel Messi | Inter Miami CF\",\n",
      "      \"content\": \"Image 16: Atlanta site address Image 18: Charlotte site address Image 19: Chicago site address Image 20: Cincinnati site address Image 26: LAFC site address Image 28: Miami site address Image 29: Minnesota site address Image 30: Montreal site address Image 31: Nashville site address Image 35: Orlando site address Image 36: Philadelphia site address Image 37: Portland site address Image 41: Seattle site address Image 44: Toronto site address Image 45: Vancouver site address If you click \\u201cAccept & Continue,\\u201d you consent to MLS and our advertisers, vendors and other partners (collectively \\u201cPartners\\u201d) using non-essential Cookies and processing personal data (such as unique identifiers) stored on and/or accessed from your device or browser for the purposes described below.\",\n",
      "      \"score\": 0.1576163,\n",
      "      \"raw_content\": null\n",
      "    }\n",
      "  ],\n",
      "  \"response_time\": 1.62\n",
      "}\n"
     ]
    }
   ],
   "source": [
    "import json\n",
    "\n",
    "\n",
    "print(json.dumps(response, indent=2))"
   ]
  },
  {
   "cell_type": "code",
   "execution_count": null,
   "id": "77dd264f",
   "metadata": {},
   "outputs": [],
   "source": []
  }
 ],
 "metadata": {
  "kernelspec": {
   "display_name": ".venv",
   "language": "python",
   "name": "python3"
  },
  "language_info": {
   "codemirror_mode": {
    "name": "ipython",
    "version": 3
   },
   "file_extension": ".py",
   "mimetype": "text/x-python",
   "name": "python",
   "nbconvert_exporter": "python",
   "pygments_lexer": "ipython3",
   "version": "3.12.10"
  }
 },
 "nbformat": 4,
 "nbformat_minor": 5
}
